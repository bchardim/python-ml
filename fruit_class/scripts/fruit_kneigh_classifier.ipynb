{
 "cells": [
  {
   "cell_type": "markdown",
   "metadata": {},
   "source": [
    " # Fruit Classification with k-N Supervised Learning"
   ]
  },
  {
   "cell_type": "code",
   "execution_count": 97,
   "metadata": {
    "hide_input": false
   },
   "outputs": [],
   "source": [
    "import sys\n",
    "import itertools\n",
    "import numpy as np\n",
    "import matplotlib.pyplot as plt\n",
    "import pandas as pd\n",
    "from sklearn.model_selection import train_test_split\n",
    "from sklearn.neighbors import KNeighborsClassifier\n",
    "from matplotlib import cm\n",
    "from sklearn.metrics import confusion_matrix\n",
    "from sklearn.metrics import accuracy_score\n",
    "\n",
    "\n"
   ]
  },
  {
   "cell_type": "markdown",
   "metadata": {},
   "source": [
    " ### Load Dataset to train the system\n"
   ]
  },
  {
   "cell_type": "code",
   "execution_count": 98,
   "metadata": {
    "uuid": "e2b8e959-75f0-4fa9-a878-5ab024f89223"
   },
   "outputs": [],
   "source": [
    "fruits = pd.read_table('../data/fruit_data_with_colors.txt')"
   ]
  },
  {
   "cell_type": "markdown",
   "metadata": {},
   "source": [
    "#### Create a mapping from fruit label value to fruit name to make results easier to interpret"
   ]
  },
  {
   "cell_type": "code",
   "execution_count": 99,
   "metadata": {
    "uuid": "e2b8e959-75f0-4fa9-a878-5ab024f89223"
   },
   "outputs": [
    {
     "name": "stdout",
     "output_type": "stream",
     "text": [
      "{1: 'apple', 2: 'mandarin', 3: 'orange', 4: 'lemon'}\n"
     ]
    }
   ],
   "source": [
    "# color_score: 1-> Red, 0-> Violet\n",
    "lookup_fruit_name = dict(zip(fruits.fruit_label.unique(), fruits.fruit_name.unique()))\n",
    "print (lookup_fruit_name)"
   ]
  },
  {
   "cell_type": "markdown",
   "metadata": {},
   "source": [
    "#### Print dataset"
   ]
  },
  {
   "cell_type": "code",
   "execution_count": 100,
   "metadata": {},
   "outputs": [
    {
     "name": "stdout",
     "output_type": "stream",
     "text": [
      "    fruit_label fruit_name     fruit_subtype  mass  width  height  color_score\n",
      "0             1      apple      granny_smith   192    8.4     7.3         0.55\n",
      "1             1      apple      granny_smith   180    8.0     6.8         0.59\n",
      "2             1      apple      granny_smith   176    7.4     7.2         0.60\n",
      "3             2   mandarin          mandarin    86    6.2     4.7         0.80\n",
      "4             2   mandarin          mandarin    84    6.0     4.6         0.79\n",
      "5             2   mandarin          mandarin    80    5.8     4.3         0.77\n",
      "6             2   mandarin          mandarin    80    5.9     4.3         0.81\n",
      "7             2   mandarin          mandarin    76    5.8     4.0         0.81\n",
      "8             1      apple          braeburn   178    7.1     7.8         0.92\n",
      "9             1      apple          braeburn   172    7.4     7.0         0.89\n",
      "10            1      apple          braeburn   166    6.9     7.3         0.93\n",
      "11            1      apple          braeburn   172    7.1     7.6         0.92\n",
      "12            1      apple          braeburn   154    7.0     7.1         0.88\n",
      "13            1      apple  golden_delicious   164    7.3     7.7         0.70\n",
      "14            1      apple  golden_delicious   152    7.6     7.3         0.69\n",
      "15            1      apple  golden_delicious   156    7.7     7.1         0.69\n",
      "16            1      apple  golden_delicious   156    7.6     7.5         0.67\n",
      "17            1      apple  golden_delicious   168    7.5     7.6         0.73\n",
      "18            1      apple       cripps_pink   162    7.5     7.1         0.83\n",
      "19            1      apple       cripps_pink   162    7.4     7.2         0.85\n",
      "20            1      apple       cripps_pink   160    7.5     7.5         0.86\n",
      "21            1      apple       cripps_pink   156    7.4     7.4         0.84\n",
      "22            1      apple       cripps_pink   140    7.3     7.1         0.87\n",
      "23            1      apple       cripps_pink   170    7.6     7.9         0.88\n",
      "24            3     orange     spanish_jumbo   342    9.0     9.4         0.75\n",
      "25            3     orange     spanish_jumbo   356    9.2     9.2         0.75\n",
      "26            3     orange     spanish_jumbo   362    9.6     9.2         0.74\n",
      "27            3     orange  selected_seconds   204    7.5     9.2         0.77\n",
      "28            3     orange  selected_seconds   140    6.7     7.1         0.72\n",
      "29            3     orange  selected_seconds   160    7.0     7.4         0.81\n",
      "30            3     orange  selected_seconds   158    7.1     7.5         0.79\n",
      "31            3     orange  selected_seconds   210    7.8     8.0         0.82\n",
      "32            3     orange  selected_seconds   164    7.2     7.0         0.80\n",
      "33            3     orange      turkey_navel   190    7.5     8.1         0.74\n",
      "34            3     orange      turkey_navel   142    7.6     7.8         0.75\n",
      "35            3     orange      turkey_navel   150    7.1     7.9         0.75\n",
      "36            3     orange      turkey_navel   160    7.1     7.6         0.76\n",
      "37            3     orange      turkey_navel   154    7.3     7.3         0.79\n",
      "38            3     orange      turkey_navel   158    7.2     7.8         0.77\n",
      "39            3     orange      turkey_navel   144    6.8     7.4         0.75\n",
      "40            3     orange      turkey_navel   154    7.1     7.5         0.78\n",
      "41            3     orange      turkey_navel   180    7.6     8.2         0.79\n",
      "42            3     orange      turkey_navel   154    7.2     7.2         0.82\n",
      "43            4      lemon    spanish_belsan   194    7.2    10.3         0.70\n",
      "44            4      lemon    spanish_belsan   200    7.3    10.5         0.72\n",
      "45            4      lemon    spanish_belsan   186    7.2     9.2         0.72\n",
      "46            4      lemon    spanish_belsan   216    7.3    10.2         0.71\n",
      "47            4      lemon    spanish_belsan   196    7.3     9.7         0.72\n",
      "48            4      lemon    spanish_belsan   174    7.3    10.1         0.72\n",
      "49            4      lemon           unknown   132    5.8     8.7         0.73\n",
      "50            4      lemon           unknown   130    6.0     8.2         0.71\n",
      "51            4      lemon           unknown   116    6.0     7.5         0.72\n",
      "52            4      lemon           unknown   118    5.9     8.0         0.72\n",
      "53            4      lemon           unknown   120    6.0     8.4         0.74\n",
      "54            4      lemon           unknown   116    6.1     8.5         0.71\n",
      "55            4      lemon           unknown   116    6.3     7.7         0.72\n",
      "56            4      lemon           unknown   116    5.9     8.1         0.73\n",
      "57            4      lemon           unknown   152    6.5     8.5         0.72\n",
      "58            4      lemon           unknown   118    6.1     8.1         0.70\n"
     ]
    }
   ],
   "source": [
    "# color_score: 1-> Red, 0-> Violet\n",
    "print (fruits)"
   ]
  },
  {
   "cell_type": "markdown",
   "metadata": {},
   "source": [
    " ## Create Train and Test Datasets\n"
   ]
  },
  {
   "cell_type": "markdown",
   "metadata": {},
   "source": [
    " ### Define features X and labels y\n",
    " ### Use the mass, width,  height and color_score features (X) of each fruit instance (y)\n"
   ]
  },
  {
   "cell_type": "code",
   "execution_count": 101,
   "metadata": {},
   "outputs": [],
   "source": [
    "X = fruits[['mass', 'width', 'height','color_score']]\n",
    "y = fruits['fruit_label']"
   ]
  },
  {
   "cell_type": "markdown",
   "metadata": {},
   "source": [
    " ### Train dataset and Test dataset test split, using default 75% / 25%\n"
   ]
  },
  {
   "cell_type": "code",
   "execution_count": 102,
   "metadata": {},
   "outputs": [],
   "source": [
    "X_train, X_test, y_train, y_test = train_test_split(X, y, random_state=0)"
   ]
  },
  {
   "cell_type": "markdown",
   "metadata": {},
   "source": [
    "### Train dataset 3D scatter plot\n",
    "### * Suppose density=constant for each kind of fruit -> mass, width and  height are related m=dxV-> subs mass by color_score"
   ]
  },
  {
   "cell_type": "code",
   "execution_count": 103,
   "metadata": {},
   "outputs": [
    {
     "data": {
      "image/png": "[encoded data removed]",
      "text/plain": [
       "<matplotlib.figure.Figure at 0x7febba13bc10>"
      ]
     },
     "metadata": {},
     "output_type": "display_data"
    }
   ],
   "source": [
    "from mpl_toolkits.mplot3d import Axes3D\n",
    "\n",
    "fig = plt.figure()\n",
    "ax = fig.add_subplot(111, projection = '3d')\n",
    "ax.scatter(X_train['color_score'], X_train['width'], X_train['height'], c = y_train, marker = 'o', s=100)\n",
    "ax.set_xlabel('color_score')\n",
    "ax.set_ylabel('width')\n",
    "ax.set_zlabel('height')\n",
    "plt.show()\n"
   ]
  },
  {
   "cell_type": "markdown",
   "metadata": {},
   "source": [
    "## Configure, train and test ML algorithm, K-Nearest"
   ]
  },
  {
   "cell_type": "markdown",
   "metadata": {},
   "source": [
    "### Create classifier K-N object"
   ]
  },
  {
   "cell_type": "code",
   "execution_count": 104,
   "metadata": {
    "uuid": "30faf136-0ef7-4762-bd82-3795eea323d0"
   },
   "outputs": [],
   "source": [
    "knn = KNeighborsClassifier(n_neighbors = 1)"
   ]
  },
  {
   "cell_type": "markdown",
   "metadata": {},
   "source": [
    "### Train the classifier, (fit the estimator) using the training dataset"
   ]
  },
  {
   "cell_type": "code",
   "execution_count": 105,
   "metadata": {
    "uuid": "ad1b06f7-e03a-4938-9d59-5bb40e848553"
   },
   "outputs": [
    {
     "data": {
      "text/plain": [
       "KNeighborsClassifier(algorithm='auto', leaf_size=30, metric='minkowski',\n",
       "           metric_params=None, n_jobs=1, n_neighbors=1, p=2,\n",
       "           weights='uniform')"
      ]
     },
     "execution_count": 105,
     "metadata": {},
     "output_type": "execute_result"
    }
   ],
   "source": [
    "knn.fit(X_train, y_train)"
   ]
  },
  {
   "cell_type": "markdown",
   "metadata": {},
   "source": [
    "### Test the classfier, estimate the accuracy of the classifier on future data, using the test dataset"
   ]
  },
  {
   "cell_type": "code",
   "execution_count": 106,
   "metadata": {},
   "outputs": [
    {
     "name": "stdout",
     "output_type": "stream",
     "text": [
      "Accuracy of K-NN classifier on training set: 1.00\n",
      "Accuracy of K-NN classifier on test set: 0.60\n"
     ]
    }
   ],
   "source": [
    "print('Accuracy of K-NN classifier on training set: {:.2f}'\n",
    "     .format(knn.score(X_train, y_train)))\n",
    "print('Accuracy of K-NN classifier on test set: {:.2f}'\n",
    "     .format(knn.score(X_test, y_test)))\n",
    "\n",
    "from sklearn.metrics import classification_report\n",
    "from sklearn.metrics import confusion_matrix\n",
    "pred = knn.predict(X_test)\n",
    "\n"
   ]
  },
  {
   "cell_type": "markdown",
   "metadata": {},
   "source": [
    "### Confusion matrix"
   ]
  },
  {
   "cell_type": "code",
   "execution_count": 107,
   "metadata": {},
   "outputs": [
    {
     "name": "stdout",
     "output_type": "stream",
     "text": [
      "Confusion matrix, without normalization\n",
      "[[2 0 2 0]\n",
      " [0 1 0 0]\n",
      " [3 0 5 0]\n",
      " [0 0 1 1]]\n"
     ]
    },
    {
     "data": {
      "image/png": "[encoded data removed]",
      "text/plain": [
       "<matplotlib.figure.Figure at 0x7febba39a390>"
      ]
     },
     "metadata": {},
     "output_type": "display_data"
    }
   ],
   "source": [
    "def plot_confusion_matrix(cm, classes,\n",
    "                          normalize=False,\n",
    "                          title='Confusion matrix',\n",
    "                          cmap=plt.cm.Blues):\n",
    "    \"\"\"\n",
    "    This function prints and plots the confusion matrix.\n",
    "    Normalization can be applied by setting `normalize=True`.\n",
    "    \"\"\"\n",
    "    plt.imshow(cm, interpolation='nearest', cmap=cmap)\n",
    "    plt.title(title)\n",
    "    plt.colorbar()\n",
    "    tick_marks = np.arange(len(classes))\n",
    "    plt.xticks(tick_marks, classes, rotation=45)\n",
    "    plt.yticks(tick_marks, classes)\n",
    "\n",
    "    if normalize:\n",
    "        cm = cm.astype('float') / cm.sum(axis=1)[:, np.newaxis]\n",
    "        print(\"Normalized confusion matrix\")\n",
    "    else:\n",
    "        print('Confusion matrix, without normalization')\n",
    "\n",
    "    print(cm)\n",
    "\n",
    "    thresh = cm.max() / 2.\n",
    "    for i, j in itertools.product(range(cm.shape[0]), range(cm.shape[1])):\n",
    "        plt.text(j, i, \"{}\".format(cm[i, j]),\n",
    "                 horizontalalignment=\"center\",\n",
    "                 color=\"white\" if cm[i, j] > thresh else \"black\")\n",
    "\n",
    "    plt.tight_layout()\n",
    "    plt.ylabel('True Class')\n",
    "    plt.xlabel('Predicted Class')\n",
    "    \n",
    "# Plot the confusion matrix using the provided functions.\n",
    "class_labels = lookup_fruit_name.values()\n",
    "model_cm = confusion_matrix(y_true=y_test, y_pred=pred)\n",
    "np.set_printoptions(precision=2)\n",
    "# Plot non-normalized confusion matrix\n",
    "plt.figure()\n",
    "plot_confusion_matrix(model_cm, classes=class_labels,title='Confusion matrix, without normalization', normalize=False)\n",
    "## Plot normalized confusion matrix\n",
    "#plt.figure()\n",
    "#plot_confusion_matrix(model_cm, classes=class_labels,title='Confusion matrix, normalized', normalize=True)\n",
    "plt.show()\n"
   ]
  },
  {
   "cell_type": "markdown",
   "metadata": {},
   "source": [
    "## Classify new unseen data"
   ]
  },
  {
   "cell_type": "markdown",
   "metadata": {},
   "source": [
    "### First example: a small fruit with mass 90g, width 4.3 cm, height 5.5 cm, color_score=0.70"
   ]
  },
  {
   "cell_type": "code",
   "execution_count": 108,
   "metadata": {},
   "outputs": [
    {
     "name": "stdout",
     "output_type": "stream",
     "text": [
      "Prediction for mass=90, width=4.3, height=5.5, color_score=0.79: ==> mandarin\n"
     ]
    }
   ],
   "source": [
    "fruit_prediction = knn.predict([[90, 4.3, 5.5, 0.79]])\n",
    "lookup_fruit_name[fruit_prediction[0]]\n",
    "print \"Prediction for mass=90, width=4.3, height=5.5, color_score=0.79: ==> \" + str (lookup_fruit_name[fruit_prediction[0]])\n"
   ]
  },
  {
   "cell_type": "markdown",
   "metadata": {},
   "source": [
    "### Second example: a larger, elongated fruit with mass 150g, width 7.3 cm, height 7.5 cm, color_score=0.63"
   ]
  },
  {
   "cell_type": "code",
   "execution_count": 109,
   "metadata": {
    "scrolled": true
   },
   "outputs": [
    {
     "name": "stdout",
     "output_type": "stream",
     "text": [
      "Prediction for mass=150, width=7.3, height=7.5, color_score=0.63: ==> apple\n"
     ]
    }
   ],
   "source": [
    "fruit_prediction = knn.predict([[150, 7.3, 7.5, 0.63]])\n",
    "lookup_fruit_name[fruit_prediction[0]]\n",
    "print \"Prediction for mass=150, width=7.3, height=7.5, color_score=0.63: ==> \" + str (lookup_fruit_name[fruit_prediction[0]])"
   ]
  },
  {
   "cell_type": "markdown",
   "metadata": {},
   "source": [
    "## Tune k-N algorithm"
   ]
  },
  {
   "cell_type": "markdown",
   "metadata": {},
   "source": [
    "### How sensitive is k-N classification accuracy to the choice of the 'k' parameter?"
   ]
  },
  {
   "cell_type": "code",
   "execution_count": 110,
   "metadata": {},
   "outputs": [
    {
     "data": {
      "image/png": "[encoded data removed]",
      "text/plain": [
       "<matplotlib.figure.Figure at 0x7febba4d01d0>"
      ]
     },
     "metadata": {},
     "output_type": "display_data"
    }
   ],
   "source": [
    "k_range = range(1,20)\n",
    "scores = []\n",
    "\n",
    "for k in k_range:\n",
    "    knn = KNeighborsClassifier(n_neighbors = k)\n",
    "    knn.fit(X_train, y_train)\n",
    "    scores.append(knn.score(X_test, y_test))\n",
    "\n",
    "plt.figure()\n",
    "plt.xlabel('k')\n",
    "plt.ylabel('accuracy')\n",
    "plt.scatter(k_range, scores)\n",
    "plt.xticks([0,5,10,15,20]);\n",
    "plt.show()"
   ]
  },
  {
   "cell_type": "markdown",
   "metadata": {},
   "source": [
    "### How sensitive is k-N classification accuracy to the train/test split proportion?"
   ]
  },
  {
   "cell_type": "code",
   "execution_count": 111,
   "metadata": {},
   "outputs": [
    {
     "data": {
      "image/png": "[encoded data removed]",
      "text/plain": [
       "<matplotlib.figure.Figure at 0x7febba121850>"
      ]
     },
     "metadata": {},
     "output_type": "display_data"
    }
   ],
   "source": [
    "t = [0.8, 0.7, 0.6, 0.5, 0.4, 0.3, 0.2]\n",
    "\n",
    "knn = KNeighborsClassifier(n_neighbors = 1)\n",
    "\n",
    "plt.figure()\n",
    "\n",
    "for s in t:\n",
    "\n",
    "    scores = []\n",
    "    for i in range(1,1000):\n",
    "        X_train, X_test, y_train, y_test = train_test_split(X, y, test_size = 1-s)\n",
    "        knn.fit(X_train, y_train)\n",
    "        scores.append(knn.score(X_test, y_test))\n",
    "    plt.plot(s, np.mean(scores), 'bo')\n",
    "\n",
    "plt.xlabel('Training set proportion (%)')\n",
    "plt.ylabel('accuracy');\n",
    "plt.show()\n"
   ]
  },
  {
   "cell_type": "code",
   "execution_count": null,
   "metadata": {},
   "outputs": [],
   "source": []
  },
  {
   "cell_type": "code",
   "execution_count": null,
   "metadata": {},
   "outputs": [],
   "source": []
  }
 ],
 "metadata": {
  "anaconda-cloud": {},
  "kernelspec": {
   "display_name": "Python 2",
   "language": "python",
   "name": "python2"
  },
  "language_info": {
   "codemirror_mode": {
    "name": "ipython",
    "version": 2
   },
   "file_extension": ".py",
   "mimetype": "text/x-python",
   "name": "python",
   "nbconvert_exporter": "python",
   "pygments_lexer": "ipython2",
   "version": "2.7.15"
  }
 },
 "nbformat": 4,
 "nbformat_minor": 2
}
